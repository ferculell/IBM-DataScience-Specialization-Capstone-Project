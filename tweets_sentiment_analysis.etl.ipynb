{
    "nbformat_minor": 1, 
    "cells": [
        {
            "source": "# <center>ETL Stage</center>", 
            "cell_type": "markdown", 
            "metadata": {}
        }, 
        {
            "source": "!wget -O trainingandtestdata.zip http://cs.stanford.edu/people/alecmgo/trainingandtestdata.zip\nprint('unziping ...')\n!unzip -o -j trainingandtestdata.zip", 
            "cell_type": "code", 
            "metadata": {}, 
            "outputs": [
                {
                    "output_type": "stream", 
                    "name": "stdout", 
                    "text": "--2019-05-05 21:47:21--  http://cs.stanford.edu/people/alecmgo/trainingandtestdata.zip\nResolving cs.stanford.edu (cs.stanford.edu)... 171.64.64.64\nConnecting to cs.stanford.edu (cs.stanford.edu)|171.64.64.64|:80... connected.\nHTTP request sent, awaiting response... 301 Moved Permanently\nLocation: https://cs.stanford.edu/people/alecmgo/trainingandtestdata.zip [following]\n--2019-05-05 21:47:21--  https://cs.stanford.edu/people/alecmgo/trainingandtestdata.zip\nConnecting to cs.stanford.edu (cs.stanford.edu)|171.64.64.64|:443... connected.\nHTTP request sent, awaiting response... 200 OK\nLength: 81363704 (78M) [application/zip]\nSaving to: \u2018trainingandtestdata.zip\u2019\n\n100%[======================================>] 81,363,704  62.7MB/s   in 1.2s   \n\n2019-05-05 21:47:23 (62.7 MB/s) - \u2018trainingandtestdata.zip\u2019 saved [81363704/81363704]\n\nunziping ...\nArchive:  trainingandtestdata.zip\n  inflating: testdata.manual.2009.06.14.csv  \n  inflating: training.1600000.processed.noemoticon.csv  \n"
                }
            ], 
            "execution_count": 2
        }, 
        {
            "source": "import numpy as np\nimport pandas as pd\nimport matplotlib.pyplot as plt\n\n\ndata = pd.read_csv(\"training.1600000.processed.noemoticon.csv\", header=None, encoding='ISO-8859-1')\ntest = pd.read_csv(\"testdata.manual.2009.06.14.csv\", header=None, encoding='ISO-8859-1')", 
            "cell_type": "code", 
            "metadata": {
                "_uuid": "d629ff2d2480ee46fbb7e2d37f6b5fab8052498a", 
                "_cell_guid": "79c7e3d0-c299-4dcb-8224-4455121ee9b0"
            }, 
            "outputs": [], 
            "execution_count": 3
        }, 
        {
            "source": "<br>\n<br>\n<p>As we had seen in the Exploratory Data Analysis, the data provided is healthy and the amount of values per category is well-balanced. So major data transformations will not be necessary. Let's do some minor modifications.</p>\n<p>First let's add the proper name to each column.</p>\n<br>\n<br>", 
            "cell_type": "markdown", 
            "metadata": {}
        }, 
        {
            "source": "data.columns = [\"target\", \"ids\", \"date\", \"flag\", \"user\", \"text\"]\ndata.head()", 
            "cell_type": "code", 
            "metadata": {}, 
            "outputs": [
                {
                    "output_type": "execute_result", 
                    "data": {
                        "text/html": "<div>\n<style scoped>\n    .dataframe tbody tr th:only-of-type {\n        vertical-align: middle;\n    }\n\n    .dataframe tbody tr th {\n        vertical-align: top;\n    }\n\n    .dataframe thead th {\n        text-align: right;\n    }\n</style>\n<table border=\"1\" class=\"dataframe\">\n  <thead>\n    <tr style=\"text-align: right;\">\n      <th></th>\n      <th>target</th>\n      <th>ids</th>\n      <th>date</th>\n      <th>flag</th>\n      <th>user</th>\n      <th>text</th>\n    </tr>\n  </thead>\n  <tbody>\n    <tr>\n      <th>0</th>\n      <td>0</td>\n      <td>1467810369</td>\n      <td>Mon Apr 06 22:19:45 PDT 2009</td>\n      <td>NO_QUERY</td>\n      <td>_TheSpecialOne_</td>\n      <td>@switchfoot http://twitpic.com/2y1zl - Awww, t...</td>\n    </tr>\n    <tr>\n      <th>1</th>\n      <td>0</td>\n      <td>1467810672</td>\n      <td>Mon Apr 06 22:19:49 PDT 2009</td>\n      <td>NO_QUERY</td>\n      <td>scotthamilton</td>\n      <td>is upset that he can't update his Facebook by ...</td>\n    </tr>\n    <tr>\n      <th>2</th>\n      <td>0</td>\n      <td>1467810917</td>\n      <td>Mon Apr 06 22:19:53 PDT 2009</td>\n      <td>NO_QUERY</td>\n      <td>mattycus</td>\n      <td>@Kenichan I dived many times for the ball. Man...</td>\n    </tr>\n    <tr>\n      <th>3</th>\n      <td>0</td>\n      <td>1467811184</td>\n      <td>Mon Apr 06 22:19:57 PDT 2009</td>\n      <td>NO_QUERY</td>\n      <td>ElleCTF</td>\n      <td>my whole body feels itchy and like its on fire</td>\n    </tr>\n    <tr>\n      <th>4</th>\n      <td>0</td>\n      <td>1467811193</td>\n      <td>Mon Apr 06 22:19:57 PDT 2009</td>\n      <td>NO_QUERY</td>\n      <td>Karoli</td>\n      <td>@nationwideclass no, it's not behaving at all....</td>\n    </tr>\n  </tbody>\n</table>\n</div>", 
                        "text/plain": "   target         ids                          date      flag  \\\n0       0  1467810369  Mon Apr 06 22:19:45 PDT 2009  NO_QUERY   \n1       0  1467810672  Mon Apr 06 22:19:49 PDT 2009  NO_QUERY   \n2       0  1467810917  Mon Apr 06 22:19:53 PDT 2009  NO_QUERY   \n3       0  1467811184  Mon Apr 06 22:19:57 PDT 2009  NO_QUERY   \n4       0  1467811193  Mon Apr 06 22:19:57 PDT 2009  NO_QUERY   \n\n              user                                               text  \n0  _TheSpecialOne_  @switchfoot http://twitpic.com/2y1zl - Awww, t...  \n1    scotthamilton  is upset that he can't update his Facebook by ...  \n2         mattycus  @Kenichan I dived many times for the ball. Man...  \n3          ElleCTF    my whole body feels itchy and like its on fire   \n4           Karoli  @nationwideclass no, it's not behaving at all....  "
                    }, 
                    "execution_count": 4, 
                    "metadata": {}
                }
            ], 
            "execution_count": 4
        }, 
        {
            "source": "test.columns = [\"target\", \"ids\", \"date\", \"flag\", \"user\", \"text\"]\ntest.head()", 
            "cell_type": "code", 
            "metadata": {}, 
            "outputs": [
                {
                    "output_type": "execute_result", 
                    "data": {
                        "text/html": "<div>\n<style scoped>\n    .dataframe tbody tr th:only-of-type {\n        vertical-align: middle;\n    }\n\n    .dataframe tbody tr th {\n        vertical-align: top;\n    }\n\n    .dataframe thead th {\n        text-align: right;\n    }\n</style>\n<table border=\"1\" class=\"dataframe\">\n  <thead>\n    <tr style=\"text-align: right;\">\n      <th></th>\n      <th>target</th>\n      <th>ids</th>\n      <th>date</th>\n      <th>flag</th>\n      <th>user</th>\n      <th>text</th>\n    </tr>\n  </thead>\n  <tbody>\n    <tr>\n      <th>0</th>\n      <td>4</td>\n      <td>3</td>\n      <td>Mon May 11 03:17:40 UTC 2009</td>\n      <td>kindle2</td>\n      <td>tpryan</td>\n      <td>@stellargirl I loooooooovvvvvveee my Kindle2. ...</td>\n    </tr>\n    <tr>\n      <th>1</th>\n      <td>4</td>\n      <td>4</td>\n      <td>Mon May 11 03:18:03 UTC 2009</td>\n      <td>kindle2</td>\n      <td>vcu451</td>\n      <td>Reading my kindle2...  Love it... Lee childs i...</td>\n    </tr>\n    <tr>\n      <th>2</th>\n      <td>4</td>\n      <td>5</td>\n      <td>Mon May 11 03:18:54 UTC 2009</td>\n      <td>kindle2</td>\n      <td>chadfu</td>\n      <td>Ok, first assesment of the #kindle2 ...it fuck...</td>\n    </tr>\n    <tr>\n      <th>3</th>\n      <td>4</td>\n      <td>6</td>\n      <td>Mon May 11 03:19:04 UTC 2009</td>\n      <td>kindle2</td>\n      <td>SIX15</td>\n      <td>@kenburbary You'll love your Kindle2. I've had...</td>\n    </tr>\n    <tr>\n      <th>4</th>\n      <td>4</td>\n      <td>7</td>\n      <td>Mon May 11 03:21:41 UTC 2009</td>\n      <td>kindle2</td>\n      <td>yamarama</td>\n      <td>@mikefish  Fair enough. But i have the Kindle2...</td>\n    </tr>\n  </tbody>\n</table>\n</div>", 
                        "text/plain": "   target  ids                          date     flag      user  \\\n0       4    3  Mon May 11 03:17:40 UTC 2009  kindle2    tpryan   \n1       4    4  Mon May 11 03:18:03 UTC 2009  kindle2    vcu451   \n2       4    5  Mon May 11 03:18:54 UTC 2009  kindle2    chadfu   \n3       4    6  Mon May 11 03:19:04 UTC 2009  kindle2     SIX15   \n4       4    7  Mon May 11 03:21:41 UTC 2009  kindle2  yamarama   \n\n                                                text  \n0  @stellargirl I loooooooovvvvvveee my Kindle2. ...  \n1  Reading my kindle2...  Love it... Lee childs i...  \n2  Ok, first assesment of the #kindle2 ...it fuck...  \n3  @kenburbary You'll love your Kindle2. I've had...  \n4  @mikefish  Fair enough. But i have the Kindle2...  "
                    }, 
                    "execution_count": 5, 
                    "metadata": {}
                }
            ], 
            "execution_count": 5
        }, 
        {
            "source": "<br>\n<br>\n<p>OK, done. Now we'll normalize the target value, so we'll get 0 for negative sentiment and 1 for positive sentiment. We will not modify the neutral value because we will not use it as a classification label.</p>\n<br>\n<br>", 
            "cell_type": "markdown", 
            "metadata": {}
        }, 
        {
            "source": "data[\"target\"] = data[\"target\"].replace(4, 1)\ndata.groupby(\"target\").count()", 
            "cell_type": "code", 
            "metadata": {}, 
            "outputs": [
                {
                    "output_type": "execute_result", 
                    "data": {
                        "text/html": "<div>\n<style scoped>\n    .dataframe tbody tr th:only-of-type {\n        vertical-align: middle;\n    }\n\n    .dataframe tbody tr th {\n        vertical-align: top;\n    }\n\n    .dataframe thead th {\n        text-align: right;\n    }\n</style>\n<table border=\"1\" class=\"dataframe\">\n  <thead>\n    <tr style=\"text-align: right;\">\n      <th></th>\n      <th>ids</th>\n      <th>date</th>\n      <th>flag</th>\n      <th>user</th>\n      <th>text</th>\n    </tr>\n    <tr>\n      <th>target</th>\n      <th></th>\n      <th></th>\n      <th></th>\n      <th></th>\n      <th></th>\n    </tr>\n  </thead>\n  <tbody>\n    <tr>\n      <th>0</th>\n      <td>800000</td>\n      <td>800000</td>\n      <td>800000</td>\n      <td>800000</td>\n      <td>800000</td>\n    </tr>\n    <tr>\n      <th>1</th>\n      <td>800000</td>\n      <td>800000</td>\n      <td>800000</td>\n      <td>800000</td>\n      <td>800000</td>\n    </tr>\n  </tbody>\n</table>\n</div>", 
                        "text/plain": "           ids    date    flag    user    text\ntarget                                        \n0       800000  800000  800000  800000  800000\n1       800000  800000  800000  800000  800000"
                    }, 
                    "execution_count": 6, 
                    "metadata": {}
                }
            ], 
            "execution_count": 6
        }, 
        {
            "source": "test[\"target\"] = test[\"target\"].replace(4, 1)\ntest.groupby(\"target\").count()", 
            "cell_type": "code", 
            "metadata": {}, 
            "outputs": [
                {
                    "output_type": "execute_result", 
                    "data": {
                        "text/html": "<div>\n<style scoped>\n    .dataframe tbody tr th:only-of-type {\n        vertical-align: middle;\n    }\n\n    .dataframe tbody tr th {\n        vertical-align: top;\n    }\n\n    .dataframe thead th {\n        text-align: right;\n    }\n</style>\n<table border=\"1\" class=\"dataframe\">\n  <thead>\n    <tr style=\"text-align: right;\">\n      <th></th>\n      <th>ids</th>\n      <th>date</th>\n      <th>flag</th>\n      <th>user</th>\n      <th>text</th>\n    </tr>\n    <tr>\n      <th>target</th>\n      <th></th>\n      <th></th>\n      <th></th>\n      <th></th>\n      <th></th>\n    </tr>\n  </thead>\n  <tbody>\n    <tr>\n      <th>0</th>\n      <td>177</td>\n      <td>177</td>\n      <td>177</td>\n      <td>177</td>\n      <td>177</td>\n    </tr>\n    <tr>\n      <th>1</th>\n      <td>182</td>\n      <td>182</td>\n      <td>182</td>\n      <td>182</td>\n      <td>182</td>\n    </tr>\n    <tr>\n      <th>2</th>\n      <td>139</td>\n      <td>139</td>\n      <td>139</td>\n      <td>139</td>\n      <td>139</td>\n    </tr>\n  </tbody>\n</table>\n</div>", 
                        "text/plain": "        ids  date  flag  user  text\ntarget                             \n0       177   177   177   177   177\n1       182   182   182   182   182\n2       139   139   139   139   139"
                    }, 
                    "execution_count": 7, 
                    "metadata": {}
                }
            ], 
            "execution_count": 7
        }, 
        {
            "source": "<br>\n<br>\n<p>It's time to select the \"target\" and the \"text\" columns from each dataset to obtain the usable dataframes.</p>\n<br>\n<br>", 
            "cell_type": "markdown", 
            "metadata": {}
        }, 
        {
            "source": "df = data[[\"target\", \"text\"]]\ndf.head()", 
            "cell_type": "code", 
            "metadata": {}, 
            "outputs": [
                {
                    "output_type": "execute_result", 
                    "data": {
                        "text/html": "<div>\n<style scoped>\n    .dataframe tbody tr th:only-of-type {\n        vertical-align: middle;\n    }\n\n    .dataframe tbody tr th {\n        vertical-align: top;\n    }\n\n    .dataframe thead th {\n        text-align: right;\n    }\n</style>\n<table border=\"1\" class=\"dataframe\">\n  <thead>\n    <tr style=\"text-align: right;\">\n      <th></th>\n      <th>target</th>\n      <th>text</th>\n    </tr>\n  </thead>\n  <tbody>\n    <tr>\n      <th>0</th>\n      <td>0</td>\n      <td>@switchfoot http://twitpic.com/2y1zl - Awww, t...</td>\n    </tr>\n    <tr>\n      <th>1</th>\n      <td>0</td>\n      <td>is upset that he can't update his Facebook by ...</td>\n    </tr>\n    <tr>\n      <th>2</th>\n      <td>0</td>\n      <td>@Kenichan I dived many times for the ball. Man...</td>\n    </tr>\n    <tr>\n      <th>3</th>\n      <td>0</td>\n      <td>my whole body feels itchy and like its on fire</td>\n    </tr>\n    <tr>\n      <th>4</th>\n      <td>0</td>\n      <td>@nationwideclass no, it's not behaving at all....</td>\n    </tr>\n  </tbody>\n</table>\n</div>", 
                        "text/plain": "   target                                               text\n0       0  @switchfoot http://twitpic.com/2y1zl - Awww, t...\n1       0  is upset that he can't update his Facebook by ...\n2       0  @Kenichan I dived many times for the ball. Man...\n3       0    my whole body feels itchy and like its on fire \n4       0  @nationwideclass no, it's not behaving at all...."
                    }, 
                    "execution_count": 8, 
                    "metadata": {}
                }
            ], 
            "execution_count": 8
        }, 
        {
            "source": "ts = test[[\"target\", \"text\"]]\nts.head()", 
            "cell_type": "code", 
            "metadata": {}, 
            "outputs": [
                {
                    "output_type": "execute_result", 
                    "data": {
                        "text/html": "<div>\n<style scoped>\n    .dataframe tbody tr th:only-of-type {\n        vertical-align: middle;\n    }\n\n    .dataframe tbody tr th {\n        vertical-align: top;\n    }\n\n    .dataframe thead th {\n        text-align: right;\n    }\n</style>\n<table border=\"1\" class=\"dataframe\">\n  <thead>\n    <tr style=\"text-align: right;\">\n      <th></th>\n      <th>target</th>\n      <th>text</th>\n    </tr>\n  </thead>\n  <tbody>\n    <tr>\n      <th>0</th>\n      <td>1</td>\n      <td>@stellargirl I loooooooovvvvvveee my Kindle2. ...</td>\n    </tr>\n    <tr>\n      <th>1</th>\n      <td>1</td>\n      <td>Reading my kindle2...  Love it... Lee childs i...</td>\n    </tr>\n    <tr>\n      <th>2</th>\n      <td>1</td>\n      <td>Ok, first assesment of the #kindle2 ...it fuck...</td>\n    </tr>\n    <tr>\n      <th>3</th>\n      <td>1</td>\n      <td>@kenburbary You'll love your Kindle2. I've had...</td>\n    </tr>\n    <tr>\n      <th>4</th>\n      <td>1</td>\n      <td>@mikefish  Fair enough. But i have the Kindle2...</td>\n    </tr>\n  </tbody>\n</table>\n</div>", 
                        "text/plain": "   target                                               text\n0       1  @stellargirl I loooooooovvvvvveee my Kindle2. ...\n1       1  Reading my kindle2...  Love it... Lee childs i...\n2       1  Ok, first assesment of the #kindle2 ...it fuck...\n3       1  @kenburbary You'll love your Kindle2. I've had...\n4       1  @mikefish  Fair enough. But i have the Kindle2..."
                    }, 
                    "execution_count": 9, 
                    "metadata": {}
                }
            ], 
            "execution_count": 9
        }, 
        {
            "source": "<br>\n<br>\n<p>The training data is ready. For the test data, we need to set apart the neutral values. We will use it as a complementary test \"a posteriori\" of the algorithm development.</p>\n<br>\n<br>", 
            "cell_type": "markdown", 
            "metadata": {}
        }, 
        {
            "source": "ts_bin = ts[ts[\"target\"]!=2]\nprint(ts_bin.shape)\nts_bin[\"target\"].unique()", 
            "cell_type": "code", 
            "metadata": {}, 
            "outputs": [
                {
                    "output_type": "stream", 
                    "name": "stdout", 
                    "text": "(359, 2)\n"
                }, 
                {
                    "output_type": "execute_result", 
                    "data": {
                        "text/plain": "array([1, 0])"
                    }, 
                    "execution_count": 10, 
                    "metadata": {}
                }
            ], 
            "execution_count": 10
        }, 
        {
            "source": "ts_neut = ts[ts[\"target\"]==2]\nprint(ts_neut.shape)\nts_neut[\"target\"].unique()", 
            "cell_type": "code", 
            "metadata": {}, 
            "outputs": [
                {
                    "output_type": "stream", 
                    "name": "stdout", 
                    "text": "(139, 2)\n"
                }, 
                {
                    "output_type": "execute_result", 
                    "data": {
                        "text/plain": "array([2])"
                    }, 
                    "execution_count": 11, 
                    "metadata": {}
                }
            ], 
            "execution_count": 11
        }, 
        {
            "source": "<br>\n<br>\n<p>OK, the work is done. We get a dataframe for training, a dataset for evaluation and an adicional dataset for a complementary test. Now we'll save the transformed data to new datasets files for further working.</p>\n<br>\n<br>", 
            "cell_type": "markdown", 
            "metadata": {}
        }, 
        {
            "source": "df.to_csv('training_data.csv')\nts_bin.to_csv('test_data.csv')\nts_bin.to_csv('neutral_data.csv')", 
            "cell_type": "code", 
            "metadata": {}, 
            "outputs": [], 
            "execution_count": 12
        }, 
        {
            "source": "", 
            "cell_type": "code", 
            "metadata": {}, 
            "outputs": [], 
            "execution_count": null
        }
    ], 
    "metadata": {
        "kernelspec": {
            "display_name": "Python 3.5", 
            "name": "python3", 
            "language": "python"
        }, 
        "language_info": {
            "mimetype": "text/x-python", 
            "nbconvert_exporter": "python", 
            "version": "3.5.5", 
            "name": "python", 
            "pygments_lexer": "ipython3", 
            "file_extension": ".py", 
            "codemirror_mode": {
                "version": 3, 
                "name": "ipython"
            }
        }
    }, 
    "nbformat": 4
}