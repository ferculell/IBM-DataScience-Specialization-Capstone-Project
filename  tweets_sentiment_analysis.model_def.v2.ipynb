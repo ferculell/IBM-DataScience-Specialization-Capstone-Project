{
    "nbformat_minor": 1, 
    "cells": [
        {
            "source": "# <center>Model Definition (v2)</center>", 
            "cell_type": "markdown", 
            "metadata": {
                "collapsed": true
            }
        }, 
        {
            "source": "<br>\n<br>\n<p>We will try to improve the performance with a Neural Net model, wich first layer will be an Embedding layer. We will implement it using the <b>Keras</b> library.</p>\n<br>\n<br>", 
            "cell_type": "markdown", 
            "metadata": {}
        }, 
        {
            "source": "from keras.models import Sequential\nfrom keras.layers import Dense, Embedding, Flatten, Input\nfrom keras.optimizers import Adam\n\n\n\nmax_length = 30\n\n\nmodel = Sequential()\nmodel.add(Embedding(10000, 32, input_length=max_length))\nmodel.add(Flatten())\nmodel.add(Dense(1, activation='sigmoid'))\n\nmodel.compile(optimizer='adam', loss='binary_crossentropy', metrics=['acc'])\n\n\nprint(model.summary())", 
            "cell_type": "code", 
            "metadata": {}, 
            "outputs": [
                {
                    "output_type": "stream", 
                    "name": "stdout", 
                    "text": "_________________________________________________________________\nLayer (type)                 Output Shape              Param #   \n=================================================================\nembedding_1 (Embedding)      (None, 30, 32)            320000    \n_________________________________________________________________\nflatten_1 (Flatten)          (None, 960)               0         \n_________________________________________________________________\ndense_1 (Dense)              (None, 1)                 961       \n=================================================================\nTotal params: 320,961\nTrainable params: 320,961\nNon-trainable params: 0\n_________________________________________________________________\nNone\n"
                }
            ], 
            "execution_count": 2
        }, 
        {
            "source": "", 
            "cell_type": "code", 
            "metadata": {}, 
            "outputs": [], 
            "execution_count": null
        }
    ], 
    "metadata": {
        "kernelspec": {
            "display_name": "Python 3.5", 
            "name": "python3", 
            "language": "python"
        }, 
        "language_info": {
            "mimetype": "text/x-python", 
            "nbconvert_exporter": "python", 
            "version": "3.5.5", 
            "name": "python", 
            "file_extension": ".py", 
            "pygments_lexer": "ipython3", 
            "codemirror_mode": {
                "version": 3, 
                "name": "ipython"
            }
        }
    }, 
    "nbformat": 4
}